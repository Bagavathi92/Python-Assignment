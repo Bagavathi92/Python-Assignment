{
 "cells": [
  {
   "cell_type": "markdown",
   "id": "21b1c1ad",
   "metadata": {},
   "source": [
    "Q1.1  Write a Python Program(with class concepts) to find the area of the triangle using the below\n",
    "formula.\n",
    "area = (s*(s-a)*(s-b)*(s-c)) ** 0.5\n",
    "Function to take the length of the sides of triangle from user should be defined in the parent\n",
    "class and function to calculate the area should be defined in subclass."
   ]
  },
  {
   "cell_type": "code",
   "execution_count": 39,
   "id": "2e3b25c4",
   "metadata": {},
   "outputs": [
    {
     "name": "stdout",
     "output_type": "stream",
     "text": [
      "14.696938456699069\n"
     ]
    }
   ],
   "source": [
    "class tri_angle:\n",
    "    def __init__(self,a,b,c):\n",
    "        self.a = a\n",
    "        self.b = b\n",
    "        self.c = c\n",
    "class Tri_area(tri_angle):\n",
    "    def __init__(self,*arg):\n",
    "        super(Tri_area,self).__init__(*arg)\n",
    "        \n",
    "    def calc(self,):\n",
    "        \n",
    "        s = (self.a+self.b+self.c)/2\n",
    "        area = (s*(s-self.a)*(s-self.b)*(s-self.c))**0.5\n",
    "        return area\n",
    "\n",
    "Triangle_area = Tri_area(7,6,5)\n",
    "print(Triangle_area.calc())\n"
   ]
  },
  {
   "cell_type": "markdown",
   "id": "9a326209",
   "metadata": {},
   "source": [
    "Q 1.2 Write a function filter_long_words() that takes a list of words and an integer n and returns\n",
    "the list of words that are longer than n."
   ]
  },
  {
   "cell_type": "code",
   "execution_count": 46,
   "id": "0936c4ba",
   "metadata": {},
   "outputs": [
    {
     "name": "stdout",
     "output_type": "stream",
     "text": [
      "['lam', 'baga', 'vathi', 'Murugaiah']\n"
     ]
    }
   ],
   "source": [
    "def filter_long_words(l,n):\n",
    "    filtered_list =[]\n",
    "    for i in l:\n",
    "        if len(i)>n:\n",
    "            filtered_list.append(i)\n",
    "    return filtered_list\n",
    "a = filter_long_words([\"ba\",\"lam\",\"baga\",\"vathi\",\"Murugaiah\"],2)\n",
    "print(a)"
   ]
  },
  {
   "cell_type": "markdown",
   "id": "d94ff916",
   "metadata": {},
   "source": [
    "Q 2.1 Write a Python program using function concept that maps list of words into a list of integers\n",
    "representing the lengths of the corresponding words.\n",
    "Hint: If a list [ ab,cde,erty] is passed on to the python function output should come as [2,3,4]\n",
    "Here 2,3 and 4 are the lengths of the words in the list."
   ]
  },
  {
   "cell_type": "code",
   "execution_count": 47,
   "id": "893fdb9e",
   "metadata": {},
   "outputs": [
    {
     "name": "stdout",
     "output_type": "stream",
     "text": [
      "[6, 7, 6, 5, 7]\n"
     ]
    }
   ],
   "source": [
    "def wordlength(L):\n",
    "    mylistlength =[len(i) for i in L]\n",
    "    return mylistlength\n",
    "\n",
    "x = wordlength([\"suresh\",\"Moorthy\",\"Mathan\",\"Krish\",\"Santosh\"])\n",
    "print(x)\n",
    "    "
   ]
  },
  {
   "cell_type": "markdown",
   "id": "2d38ddee",
   "metadata": {},
   "source": [
    "Q2.2 Write a Python function which takes a character (i.e. a string of length 1) and returns True if\n",
    "it is a vowel, False otherwise."
   ]
  },
  {
   "cell_type": "code",
   "execution_count": 49,
   "id": "ed4958d8",
   "metadata": {},
   "outputs": [
    {
     "name": "stdout",
     "output_type": "stream",
     "text": [
      "please enter the characterh\n",
      "False\n"
     ]
    }
   ],
   "source": [
    "def vowelspotter(string): \n",
    "    vowellist = [\"a\",\"e\",\"i\",\"o\",\"u\"]\n",
    "    if string in vowellist:\n",
    "        return True\n",
    "    else:\n",
    "        return False\n",
    "    \n",
    "myinput = input(\"please enter the character\")\n",
    "myoutput = vowelspotter(myinput)\n",
    "print(myoutput)\n",
    "\n"
   ]
  },
  {
   "cell_type": "code",
   "execution_count": null,
   "id": "c1f268c1",
   "metadata": {},
   "outputs": [],
   "source": []
  }
 ],
 "metadata": {
  "kernelspec": {
   "display_name": "Python 3",
   "language": "python",
   "name": "python3"
  },
  "language_info": {
   "codemirror_mode": {
    "name": "ipython",
    "version": 3
   },
   "file_extension": ".py",
   "mimetype": "text/x-python",
   "name": "python",
   "nbconvert_exporter": "python",
   "pygments_lexer": "ipython3",
   "version": "3.9.1"
  }
 },
 "nbformat": 4,
 "nbformat_minor": 5
}
